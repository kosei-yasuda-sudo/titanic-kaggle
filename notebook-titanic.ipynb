{
 "cells": [
  {
   "cell_type": "code",
   "execution_count": 1,
   "id": "d3244030",
   "metadata": {
    "_cell_guid": "b1076dfc-b9ad-4769-8c92-a6c4dae69d19",
    "_uuid": "8f2839f25d086af736a60e9eeb907d3b93b6e0e5",
    "execution": {
     "iopub.execute_input": "2025-09-01T06:57:11.384022Z",
     "iopub.status.busy": "2025-09-01T06:57:11.383667Z",
     "iopub.status.idle": "2025-09-01T06:57:13.319298Z",
     "shell.execute_reply": "2025-09-01T06:57:13.318136Z"
    },
    "papermill": {
     "duration": 1.948007,
     "end_time": "2025-09-01T06:57:13.320965",
     "exception": false,
     "start_time": "2025-09-01T06:57:11.372958",
     "status": "completed"
    },
    "tags": []
   },
   "outputs": [
    {
     "name": "stdout",
     "output_type": "stream",
     "text": [
      "/kaggle/input/titanic/train.csv\n",
      "/kaggle/input/titanic/test.csv\n",
      "/kaggle/input/titanic/gender_submission.csv\n"
     ]
    }
   ],
   "source": [
    "# This Python 3 environment comes with many helpful analytics libraries installed\n",
    "# It is defined by the kaggle/python Docker image: https://github.com/kaggle/docker-python\n",
    "# For example, here's several helpful packages to load\n",
    "\n",
    "import numpy as np # linear algebra\n",
    "import pandas as pd # data processing, CSV file I/O (e.g. pd.read_csv)\n",
    "\n",
    "# Input data files are available in the read-only \"../input/\" directory\n",
    "# For example, running this (by clicking run or pressing Shift+Enter) will list all files under the input directory\n",
    "# 単純に3つのcsvファイルが使えますよーって言ってるだけ\n",
    "import os\n",
    "for dirname, _, filenames in os.walk('/kaggle/input'):\n",
    "    for filename in filenames:\n",
    "        print(os.path.join(dirname, filename))\n",
    "\n",
    "# You can write up to 20GB to the current directory (/kaggle/working/) that gets preserved as output when you create a version using \"Save & Run All\" \n",
    "# You can also write temporary files to /kaggle/temp/, but they won't be saved outside of the current session"
   ]
  },
  {
   "cell_type": "code",
   "execution_count": 2,
   "id": "cbcb3840",
   "metadata": {
    "execution": {
     "iopub.execute_input": "2025-09-01T06:57:13.339860Z",
     "iopub.status.busy": "2025-09-01T06:57:13.339364Z",
     "iopub.status.idle": "2025-09-01T06:57:13.372850Z",
     "shell.execute_reply": "2025-09-01T06:57:13.371682Z"
    },
    "papermill": {
     "duration": 0.04475,
     "end_time": "2025-09-01T06:57:13.374682",
     "exception": false,
     "start_time": "2025-09-01T06:57:13.329932",
     "status": "completed"
    },
    "tags": []
   },
   "outputs": [],
   "source": [
    "train_df = pd.read_csv('../input/titanic/train.csv')\n",
    "test_df = pd.read_csv('../input/titanic/test.csv')"
   ]
  },
  {
   "cell_type": "code",
   "execution_count": 3,
   "id": "cc19752c",
   "metadata": {
    "execution": {
     "iopub.execute_input": "2025-09-01T06:57:13.394425Z",
     "iopub.status.busy": "2025-09-01T06:57:13.394142Z",
     "iopub.status.idle": "2025-09-01T06:57:13.432157Z",
     "shell.execute_reply": "2025-09-01T06:57:13.431245Z"
    },
    "papermill": {
     "duration": 0.050356,
     "end_time": "2025-09-01T06:57:13.434229",
     "exception": false,
     "start_time": "2025-09-01T06:57:13.383873",
     "status": "completed"
    },
    "tags": []
   },
   "outputs": [
    {
     "name": "stderr",
     "output_type": "stream",
     "text": [
      "/usr/local/lib/python3.11/dist-packages/pandas/io/formats/format.py:1458: RuntimeWarning: invalid value encountered in greater\n",
      "  has_large_values = (abs_vals > 1e6).any()\n",
      "/usr/local/lib/python3.11/dist-packages/pandas/io/formats/format.py:1459: RuntimeWarning: invalid value encountered in less\n",
      "  has_small_values = ((abs_vals < 10 ** (-self.digits)) & (abs_vals > 0)).any()\n",
      "/usr/local/lib/python3.11/dist-packages/pandas/io/formats/format.py:1459: RuntimeWarning: invalid value encountered in greater\n",
      "  has_small_values = ((abs_vals < 10 ** (-self.digits)) & (abs_vals > 0)).any()\n"
     ]
    },
    {
     "data": {
      "text/html": [
       "<div>\n",
       "<style scoped>\n",
       "    .dataframe tbody tr th:only-of-type {\n",
       "        vertical-align: middle;\n",
       "    }\n",
       "\n",
       "    .dataframe tbody tr th {\n",
       "        vertical-align: top;\n",
       "    }\n",
       "\n",
       "    .dataframe thead th {\n",
       "        text-align: right;\n",
       "    }\n",
       "</style>\n",
       "<table border=\"1\" class=\"dataframe\">\n",
       "  <thead>\n",
       "    <tr style=\"text-align: right;\">\n",
       "      <th></th>\n",
       "      <th>PassengerId</th>\n",
       "      <th>Survived</th>\n",
       "      <th>Pclass</th>\n",
       "      <th>Name</th>\n",
       "      <th>Sex</th>\n",
       "      <th>Age</th>\n",
       "      <th>SibSp</th>\n",
       "      <th>Parch</th>\n",
       "      <th>Ticket</th>\n",
       "      <th>Fare</th>\n",
       "      <th>Cabin</th>\n",
       "      <th>Embarked</th>\n",
       "    </tr>\n",
       "  </thead>\n",
       "  <tbody>\n",
       "    <tr>\n",
       "      <th>0</th>\n",
       "      <td>1</td>\n",
       "      <td>0</td>\n",
       "      <td>3</td>\n",
       "      <td>Braund, Mr. Owen Harris</td>\n",
       "      <td>male</td>\n",
       "      <td>22.0</td>\n",
       "      <td>1</td>\n",
       "      <td>0</td>\n",
       "      <td>A/5 21171</td>\n",
       "      <td>7.2500</td>\n",
       "      <td>NaN</td>\n",
       "      <td>S</td>\n",
       "    </tr>\n",
       "    <tr>\n",
       "      <th>1</th>\n",
       "      <td>2</td>\n",
       "      <td>1</td>\n",
       "      <td>1</td>\n",
       "      <td>Cumings, Mrs. John Bradley (Florence Briggs Th...</td>\n",
       "      <td>female</td>\n",
       "      <td>38.0</td>\n",
       "      <td>1</td>\n",
       "      <td>0</td>\n",
       "      <td>PC 17599</td>\n",
       "      <td>71.2833</td>\n",
       "      <td>C85</td>\n",
       "      <td>C</td>\n",
       "    </tr>\n",
       "    <tr>\n",
       "      <th>2</th>\n",
       "      <td>3</td>\n",
       "      <td>1</td>\n",
       "      <td>3</td>\n",
       "      <td>Heikkinen, Miss. Laina</td>\n",
       "      <td>female</td>\n",
       "      <td>26.0</td>\n",
       "      <td>0</td>\n",
       "      <td>0</td>\n",
       "      <td>STON/O2. 3101282</td>\n",
       "      <td>7.9250</td>\n",
       "      <td>NaN</td>\n",
       "      <td>S</td>\n",
       "    </tr>\n",
       "    <tr>\n",
       "      <th>3</th>\n",
       "      <td>4</td>\n",
       "      <td>1</td>\n",
       "      <td>1</td>\n",
       "      <td>Futrelle, Mrs. Jacques Heath (Lily May Peel)</td>\n",
       "      <td>female</td>\n",
       "      <td>35.0</td>\n",
       "      <td>1</td>\n",
       "      <td>0</td>\n",
       "      <td>113803</td>\n",
       "      <td>53.1000</td>\n",
       "      <td>C123</td>\n",
       "      <td>S</td>\n",
       "    </tr>\n",
       "    <tr>\n",
       "      <th>4</th>\n",
       "      <td>5</td>\n",
       "      <td>0</td>\n",
       "      <td>3</td>\n",
       "      <td>Allen, Mr. William Henry</td>\n",
       "      <td>male</td>\n",
       "      <td>35.0</td>\n",
       "      <td>0</td>\n",
       "      <td>0</td>\n",
       "      <td>373450</td>\n",
       "      <td>8.0500</td>\n",
       "      <td>NaN</td>\n",
       "      <td>S</td>\n",
       "    </tr>\n",
       "    <tr>\n",
       "      <th>...</th>\n",
       "      <td>...</td>\n",
       "      <td>...</td>\n",
       "      <td>...</td>\n",
       "      <td>...</td>\n",
       "      <td>...</td>\n",
       "      <td>...</td>\n",
       "      <td>...</td>\n",
       "      <td>...</td>\n",
       "      <td>...</td>\n",
       "      <td>...</td>\n",
       "      <td>...</td>\n",
       "      <td>...</td>\n",
       "    </tr>\n",
       "    <tr>\n",
       "      <th>886</th>\n",
       "      <td>887</td>\n",
       "      <td>0</td>\n",
       "      <td>2</td>\n",
       "      <td>Montvila, Rev. Juozas</td>\n",
       "      <td>male</td>\n",
       "      <td>27.0</td>\n",
       "      <td>0</td>\n",
       "      <td>0</td>\n",
       "      <td>211536</td>\n",
       "      <td>13.0000</td>\n",
       "      <td>NaN</td>\n",
       "      <td>S</td>\n",
       "    </tr>\n",
       "    <tr>\n",
       "      <th>887</th>\n",
       "      <td>888</td>\n",
       "      <td>1</td>\n",
       "      <td>1</td>\n",
       "      <td>Graham, Miss. Margaret Edith</td>\n",
       "      <td>female</td>\n",
       "      <td>19.0</td>\n",
       "      <td>0</td>\n",
       "      <td>0</td>\n",
       "      <td>112053</td>\n",
       "      <td>30.0000</td>\n",
       "      <td>B42</td>\n",
       "      <td>S</td>\n",
       "    </tr>\n",
       "    <tr>\n",
       "      <th>888</th>\n",
       "      <td>889</td>\n",
       "      <td>0</td>\n",
       "      <td>3</td>\n",
       "      <td>Johnston, Miss. Catherine Helen \"Carrie\"</td>\n",
       "      <td>female</td>\n",
       "      <td>NaN</td>\n",
       "      <td>1</td>\n",
       "      <td>2</td>\n",
       "      <td>W./C. 6607</td>\n",
       "      <td>23.4500</td>\n",
       "      <td>NaN</td>\n",
       "      <td>S</td>\n",
       "    </tr>\n",
       "    <tr>\n",
       "      <th>889</th>\n",
       "      <td>890</td>\n",
       "      <td>1</td>\n",
       "      <td>1</td>\n",
       "      <td>Behr, Mr. Karl Howell</td>\n",
       "      <td>male</td>\n",
       "      <td>26.0</td>\n",
       "      <td>0</td>\n",
       "      <td>0</td>\n",
       "      <td>111369</td>\n",
       "      <td>30.0000</td>\n",
       "      <td>C148</td>\n",
       "      <td>C</td>\n",
       "    </tr>\n",
       "    <tr>\n",
       "      <th>890</th>\n",
       "      <td>891</td>\n",
       "      <td>0</td>\n",
       "      <td>3</td>\n",
       "      <td>Dooley, Mr. Patrick</td>\n",
       "      <td>male</td>\n",
       "      <td>32.0</td>\n",
       "      <td>0</td>\n",
       "      <td>0</td>\n",
       "      <td>370376</td>\n",
       "      <td>7.7500</td>\n",
       "      <td>NaN</td>\n",
       "      <td>Q</td>\n",
       "    </tr>\n",
       "  </tbody>\n",
       "</table>\n",
       "<p>891 rows × 12 columns</p>\n",
       "</div>"
      ],
      "text/plain": [
       "     PassengerId  Survived  Pclass  \\\n",
       "0              1         0       3   \n",
       "1              2         1       1   \n",
       "2              3         1       3   \n",
       "3              4         1       1   \n",
       "4              5         0       3   \n",
       "..           ...       ...     ...   \n",
       "886          887         0       2   \n",
       "887          888         1       1   \n",
       "888          889         0       3   \n",
       "889          890         1       1   \n",
       "890          891         0       3   \n",
       "\n",
       "                                                  Name     Sex   Age  SibSp  \\\n",
       "0                              Braund, Mr. Owen Harris    male  22.0      1   \n",
       "1    Cumings, Mrs. John Bradley (Florence Briggs Th...  female  38.0      1   \n",
       "2                               Heikkinen, Miss. Laina  female  26.0      0   \n",
       "3         Futrelle, Mrs. Jacques Heath (Lily May Peel)  female  35.0      1   \n",
       "4                             Allen, Mr. William Henry    male  35.0      0   \n",
       "..                                                 ...     ...   ...    ...   \n",
       "886                              Montvila, Rev. Juozas    male  27.0      0   \n",
       "887                       Graham, Miss. Margaret Edith  female  19.0      0   \n",
       "888           Johnston, Miss. Catherine Helen \"Carrie\"  female   NaN      1   \n",
       "889                              Behr, Mr. Karl Howell    male  26.0      0   \n",
       "890                                Dooley, Mr. Patrick    male  32.0      0   \n",
       "\n",
       "     Parch            Ticket     Fare Cabin Embarked  \n",
       "0        0         A/5 21171   7.2500   NaN        S  \n",
       "1        0          PC 17599  71.2833   C85        C  \n",
       "2        0  STON/O2. 3101282   7.9250   NaN        S  \n",
       "3        0            113803  53.1000  C123        S  \n",
       "4        0            373450   8.0500   NaN        S  \n",
       "..     ...               ...      ...   ...      ...  \n",
       "886      0            211536  13.0000   NaN        S  \n",
       "887      0            112053  30.0000   B42        S  \n",
       "888      2        W./C. 6607  23.4500   NaN        S  \n",
       "889      0            111369  30.0000  C148        C  \n",
       "890      0            370376   7.7500   NaN        Q  \n",
       "\n",
       "[891 rows x 12 columns]"
      ]
     },
     "execution_count": 3,
     "metadata": {},
     "output_type": "execute_result"
    }
   ],
   "source": [
    "train_df"
   ]
  },
  {
   "cell_type": "code",
   "execution_count": 4,
   "id": "dfa8858d",
   "metadata": {
    "execution": {
     "iopub.execute_input": "2025-09-01T06:57:13.453606Z",
     "iopub.status.busy": "2025-09-01T06:57:13.453332Z",
     "iopub.status.idle": "2025-09-01T06:57:13.467568Z",
     "shell.execute_reply": "2025-09-01T06:57:13.466651Z"
    },
    "papermill": {
     "duration": 0.025903,
     "end_time": "2025-09-01T06:57:13.469302",
     "exception": false,
     "start_time": "2025-09-01T06:57:13.443399",
     "status": "completed"
    },
    "tags": []
   },
   "outputs": [
    {
     "data": {
      "text/html": [
       "<div>\n",
       "<style scoped>\n",
       "    .dataframe tbody tr th:only-of-type {\n",
       "        vertical-align: middle;\n",
       "    }\n",
       "\n",
       "    .dataframe tbody tr th {\n",
       "        vertical-align: top;\n",
       "    }\n",
       "\n",
       "    .dataframe thead th {\n",
       "        text-align: right;\n",
       "    }\n",
       "</style>\n",
       "<table border=\"1\" class=\"dataframe\">\n",
       "  <thead>\n",
       "    <tr style=\"text-align: right;\">\n",
       "      <th></th>\n",
       "      <th>PassengerId</th>\n",
       "      <th>Survived</th>\n",
       "      <th>Pclass</th>\n",
       "      <th>Name</th>\n",
       "      <th>Sex</th>\n",
       "      <th>Age</th>\n",
       "      <th>SibSp</th>\n",
       "      <th>Parch</th>\n",
       "      <th>Ticket</th>\n",
       "      <th>Fare</th>\n",
       "      <th>Cabin</th>\n",
       "      <th>Embarked</th>\n",
       "    </tr>\n",
       "  </thead>\n",
       "  <tbody>\n",
       "    <tr>\n",
       "      <th>0</th>\n",
       "      <td>1</td>\n",
       "      <td>0</td>\n",
       "      <td>3</td>\n",
       "      <td>Braund, Mr. Owen Harris</td>\n",
       "      <td>male</td>\n",
       "      <td>22.0</td>\n",
       "      <td>1</td>\n",
       "      <td>0</td>\n",
       "      <td>A/5 21171</td>\n",
       "      <td>7.2500</td>\n",
       "      <td>NaN</td>\n",
       "      <td>S</td>\n",
       "    </tr>\n",
       "    <tr>\n",
       "      <th>1</th>\n",
       "      <td>2</td>\n",
       "      <td>1</td>\n",
       "      <td>1</td>\n",
       "      <td>Cumings, Mrs. John Bradley (Florence Briggs Th...</td>\n",
       "      <td>female</td>\n",
       "      <td>38.0</td>\n",
       "      <td>1</td>\n",
       "      <td>0</td>\n",
       "      <td>PC 17599</td>\n",
       "      <td>71.2833</td>\n",
       "      <td>C85</td>\n",
       "      <td>C</td>\n",
       "    </tr>\n",
       "    <tr>\n",
       "      <th>2</th>\n",
       "      <td>3</td>\n",
       "      <td>1</td>\n",
       "      <td>3</td>\n",
       "      <td>Heikkinen, Miss. Laina</td>\n",
       "      <td>female</td>\n",
       "      <td>26.0</td>\n",
       "      <td>0</td>\n",
       "      <td>0</td>\n",
       "      <td>STON/O2. 3101282</td>\n",
       "      <td>7.9250</td>\n",
       "      <td>NaN</td>\n",
       "      <td>S</td>\n",
       "    </tr>\n",
       "    <tr>\n",
       "      <th>3</th>\n",
       "      <td>4</td>\n",
       "      <td>1</td>\n",
       "      <td>1</td>\n",
       "      <td>Futrelle, Mrs. Jacques Heath (Lily May Peel)</td>\n",
       "      <td>female</td>\n",
       "      <td>35.0</td>\n",
       "      <td>1</td>\n",
       "      <td>0</td>\n",
       "      <td>113803</td>\n",
       "      <td>53.1000</td>\n",
       "      <td>C123</td>\n",
       "      <td>S</td>\n",
       "    </tr>\n",
       "    <tr>\n",
       "      <th>4</th>\n",
       "      <td>5</td>\n",
       "      <td>0</td>\n",
       "      <td>3</td>\n",
       "      <td>Allen, Mr. William Henry</td>\n",
       "      <td>male</td>\n",
       "      <td>35.0</td>\n",
       "      <td>0</td>\n",
       "      <td>0</td>\n",
       "      <td>373450</td>\n",
       "      <td>8.0500</td>\n",
       "      <td>NaN</td>\n",
       "      <td>S</td>\n",
       "    </tr>\n",
       "  </tbody>\n",
       "</table>\n",
       "</div>"
      ],
      "text/plain": [
       "   PassengerId  Survived  Pclass  \\\n",
       "0            1         0       3   \n",
       "1            2         1       1   \n",
       "2            3         1       3   \n",
       "3            4         1       1   \n",
       "4            5         0       3   \n",
       "\n",
       "                                                Name     Sex   Age  SibSp  \\\n",
       "0                            Braund, Mr. Owen Harris    male  22.0      1   \n",
       "1  Cumings, Mrs. John Bradley (Florence Briggs Th...  female  38.0      1   \n",
       "2                             Heikkinen, Miss. Laina  female  26.0      0   \n",
       "3       Futrelle, Mrs. Jacques Heath (Lily May Peel)  female  35.0      1   \n",
       "4                           Allen, Mr. William Henry    male  35.0      0   \n",
       "\n",
       "   Parch            Ticket     Fare Cabin Embarked  \n",
       "0      0         A/5 21171   7.2500   NaN        S  \n",
       "1      0          PC 17599  71.2833   C85        C  \n",
       "2      0  STON/O2. 3101282   7.9250   NaN        S  \n",
       "3      0            113803  53.1000  C123        S  \n",
       "4      0            373450   8.0500   NaN        S  "
      ]
     },
     "execution_count": 4,
     "metadata": {},
     "output_type": "execute_result"
    }
   ],
   "source": [
    "train_df.head()"
   ]
  },
  {
   "cell_type": "code",
   "execution_count": 5,
   "id": "524cc3e9",
   "metadata": {
    "execution": {
     "iopub.execute_input": "2025-09-01T06:57:13.488711Z",
     "iopub.status.busy": "2025-09-01T06:57:13.488395Z",
     "iopub.status.idle": "2025-09-01T06:57:13.501632Z",
     "shell.execute_reply": "2025-09-01T06:57:13.500647Z"
    },
    "papermill": {
     "duration": 0.024513,
     "end_time": "2025-09-01T06:57:13.503144",
     "exception": false,
     "start_time": "2025-09-01T06:57:13.478631",
     "status": "completed"
    },
    "tags": []
   },
   "outputs": [
    {
     "data": {
      "text/html": [
       "<div>\n",
       "<style scoped>\n",
       "    .dataframe tbody tr th:only-of-type {\n",
       "        vertical-align: middle;\n",
       "    }\n",
       "\n",
       "    .dataframe tbody tr th {\n",
       "        vertical-align: top;\n",
       "    }\n",
       "\n",
       "    .dataframe thead th {\n",
       "        text-align: right;\n",
       "    }\n",
       "</style>\n",
       "<table border=\"1\" class=\"dataframe\">\n",
       "  <thead>\n",
       "    <tr style=\"text-align: right;\">\n",
       "      <th></th>\n",
       "      <th>PassengerId</th>\n",
       "      <th>Pclass</th>\n",
       "      <th>Name</th>\n",
       "      <th>Sex</th>\n",
       "      <th>Age</th>\n",
       "      <th>SibSp</th>\n",
       "      <th>Parch</th>\n",
       "      <th>Ticket</th>\n",
       "      <th>Fare</th>\n",
       "      <th>Cabin</th>\n",
       "      <th>Embarked</th>\n",
       "    </tr>\n",
       "  </thead>\n",
       "  <tbody>\n",
       "    <tr>\n",
       "      <th>0</th>\n",
       "      <td>892</td>\n",
       "      <td>3</td>\n",
       "      <td>Kelly, Mr. James</td>\n",
       "      <td>male</td>\n",
       "      <td>34.5</td>\n",
       "      <td>0</td>\n",
       "      <td>0</td>\n",
       "      <td>330911</td>\n",
       "      <td>7.8292</td>\n",
       "      <td>NaN</td>\n",
       "      <td>Q</td>\n",
       "    </tr>\n",
       "    <tr>\n",
       "      <th>1</th>\n",
       "      <td>893</td>\n",
       "      <td>3</td>\n",
       "      <td>Wilkes, Mrs. James (Ellen Needs)</td>\n",
       "      <td>female</td>\n",
       "      <td>47.0</td>\n",
       "      <td>1</td>\n",
       "      <td>0</td>\n",
       "      <td>363272</td>\n",
       "      <td>7.0000</td>\n",
       "      <td>NaN</td>\n",
       "      <td>S</td>\n",
       "    </tr>\n",
       "    <tr>\n",
       "      <th>2</th>\n",
       "      <td>894</td>\n",
       "      <td>2</td>\n",
       "      <td>Myles, Mr. Thomas Francis</td>\n",
       "      <td>male</td>\n",
       "      <td>62.0</td>\n",
       "      <td>0</td>\n",
       "      <td>0</td>\n",
       "      <td>240276</td>\n",
       "      <td>9.6875</td>\n",
       "      <td>NaN</td>\n",
       "      <td>Q</td>\n",
       "    </tr>\n",
       "    <tr>\n",
       "      <th>3</th>\n",
       "      <td>895</td>\n",
       "      <td>3</td>\n",
       "      <td>Wirz, Mr. Albert</td>\n",
       "      <td>male</td>\n",
       "      <td>27.0</td>\n",
       "      <td>0</td>\n",
       "      <td>0</td>\n",
       "      <td>315154</td>\n",
       "      <td>8.6625</td>\n",
       "      <td>NaN</td>\n",
       "      <td>S</td>\n",
       "    </tr>\n",
       "    <tr>\n",
       "      <th>4</th>\n",
       "      <td>896</td>\n",
       "      <td>3</td>\n",
       "      <td>Hirvonen, Mrs. Alexander (Helga E Lindqvist)</td>\n",
       "      <td>female</td>\n",
       "      <td>22.0</td>\n",
       "      <td>1</td>\n",
       "      <td>1</td>\n",
       "      <td>3101298</td>\n",
       "      <td>12.2875</td>\n",
       "      <td>NaN</td>\n",
       "      <td>S</td>\n",
       "    </tr>\n",
       "  </tbody>\n",
       "</table>\n",
       "</div>"
      ],
      "text/plain": [
       "   PassengerId  Pclass                                          Name     Sex  \\\n",
       "0          892       3                              Kelly, Mr. James    male   \n",
       "1          893       3              Wilkes, Mrs. James (Ellen Needs)  female   \n",
       "2          894       2                     Myles, Mr. Thomas Francis    male   \n",
       "3          895       3                              Wirz, Mr. Albert    male   \n",
       "4          896       3  Hirvonen, Mrs. Alexander (Helga E Lindqvist)  female   \n",
       "\n",
       "    Age  SibSp  Parch   Ticket     Fare Cabin Embarked  \n",
       "0  34.5      0      0   330911   7.8292   NaN        Q  \n",
       "1  47.0      1      0   363272   7.0000   NaN        S  \n",
       "2  62.0      0      0   240276   9.6875   NaN        Q  \n",
       "3  27.0      0      0   315154   8.6625   NaN        S  \n",
       "4  22.0      1      1  3101298  12.2875   NaN        S  "
      ]
     },
     "execution_count": 5,
     "metadata": {},
     "output_type": "execute_result"
    }
   ],
   "source": [
    "test_df.head()"
   ]
  },
  {
   "cell_type": "code",
   "execution_count": 6,
   "id": "c12a1703",
   "metadata": {
    "execution": {
     "iopub.execute_input": "2025-09-01T06:57:13.523792Z",
     "iopub.status.busy": "2025-09-01T06:57:13.523481Z",
     "iopub.status.idle": "2025-09-01T06:57:13.608739Z",
     "shell.execute_reply": "2025-09-01T06:57:13.607418Z"
    },
    "papermill": {
     "duration": 0.09745,
     "end_time": "2025-09-01T06:57:13.610101",
     "exception": true,
     "start_time": "2025-09-01T06:57:13.512651",
     "status": "failed"
    },
    "tags": []
   },
   "outputs": [
    {
     "ename": "NameError",
     "evalue": "name 'teain_df' is not defined",
     "output_type": "error",
     "traceback": [
      "\u001b[0;31m---------------------------------------------------------------------------\u001b[0m",
      "\u001b[0;31mNameError\u001b[0m                                 Traceback (most recent call last)",
      "\u001b[0;32m/tmp/ipykernel_13/2121547995.py\u001b[0m in \u001b[0;36m<cell line: 0>\u001b[0;34m()\u001b[0m\n\u001b[0;32m----> 1\u001b[0;31m \u001b[0mteain_df\u001b[0m\u001b[0;34m.\u001b[0m\u001b[0mhead\u001b[0m\u001b[0;34m(\u001b[0m\u001b[0;34m)\u001b[0m\u001b[0;34m\u001b[0m\u001b[0;34m\u001b[0m\u001b[0m\n\u001b[0m",
      "\u001b[0;31mNameError\u001b[0m: name 'teain_df' is not defined"
     ]
    }
   ],
   "source": [
    "teain_df.head()"
   ]
  },
  {
   "cell_type": "code",
   "execution_count": null,
   "id": "f5c8350d",
   "metadata": {
    "execution": {
     "iopub.status.busy": "2025-09-01T05:17:15.725472Z",
     "iopub.status.idle": "2025-09-01T05:17:15.725712Z",
     "shell.execute_reply": "2025-09-01T05:17:15.725608Z",
     "shell.execute_reply.started": "2025-09-01T05:17:15.725598Z"
    },
    "papermill": {
     "duration": null,
     "end_time": null,
     "exception": null,
     "start_time": null,
     "status": "pending"
    },
    "tags": []
   },
   "outputs": [],
   "source": [
    "train_df.head()"
   ]
  },
  {
   "cell_type": "code",
   "execution_count": null,
   "id": "18c99861",
   "metadata": {
    "execution": {
     "iopub.execute_input": "2025-09-01T05:32:00.869865Z",
     "iopub.status.busy": "2025-09-01T05:32:00.869478Z",
     "iopub.status.idle": "2025-09-01T05:32:00.885930Z",
     "shell.execute_reply": "2025-09-01T05:32:00.884986Z",
     "shell.execute_reply.started": "2025-09-01T05:32:00.869839Z"
    },
    "papermill": {
     "duration": null,
     "end_time": null,
     "exception": null,
     "start_time": null,
     "status": "pending"
    },
    "tags": []
   },
   "outputs": [],
   "source": [
    "train_df.info()"
   ]
  },
  {
   "cell_type": "code",
   "execution_count": null,
   "id": "aadd45c4",
   "metadata": {
    "execution": {
     "iopub.status.busy": "2025-09-01T05:17:15.729556Z",
     "iopub.status.idle": "2025-09-01T05:17:15.729929Z",
     "shell.execute_reply": "2025-09-01T05:17:15.729742Z",
     "shell.execute_reply.started": "2025-09-01T05:17:15.729728Z"
    },
    "papermill": {
     "duration": null,
     "end_time": null,
     "exception": null,
     "start_time": null,
     "status": "pending"
    },
    "tags": []
   },
   "outputs": [],
   "source": [
    "#cabinすっごい欠損値多いし、客室番号はそんな重要じゃなさそうだからとりあえずtrain,test両方から消しとくわ\n",
    "train_df.drop('Cabin', axis=1, inplace=True)\n",
    "test_df.drop('Cabin', axis=1, inplace=True)"
   ]
  },
  {
   "cell_type": "code",
   "execution_count": null,
   "id": "4c4c9169",
   "metadata": {
    "execution": {
     "iopub.execute_input": "2025-09-01T05:17:15.809450Z",
     "iopub.status.busy": "2025-09-01T05:17:15.809052Z",
     "iopub.status.idle": "2025-09-01T05:17:15.823490Z",
     "shell.execute_reply": "2025-09-01T05:17:15.822464Z",
     "shell.execute_reply.started": "2025-09-01T05:17:15.809406Z"
    },
    "papermill": {
     "duration": null,
     "end_time": null,
     "exception": null,
     "start_time": null,
     "status": "pending"
    },
    "tags": []
   },
   "outputs": [],
   "source": [
    "train_df.head()"
   ]
  },
  {
   "cell_type": "code",
   "execution_count": null,
   "id": "e8345a00",
   "metadata": {
    "execution": {
     "iopub.execute_input": "2025-09-01T05:17:15.825312Z",
     "iopub.status.busy": "2025-09-01T05:17:15.825068Z",
     "iopub.status.idle": "2025-09-01T05:17:15.842202Z",
     "shell.execute_reply": "2025-09-01T05:17:15.841112Z",
     "shell.execute_reply.started": "2025-09-01T05:17:15.825293Z"
    },
    "papermill": {
     "duration": null,
     "end_time": null,
     "exception": null,
     "start_time": null,
     "status": "pending"
    },
    "tags": []
   },
   "outputs": [],
   "source": [
    "#cabinと同じくpassengerIDいらなそうなんでカラム消去\n",
    "train_df.drop('PassengerId', axis=1, inplace=True)"
   ]
  },
  {
   "cell_type": "code",
   "execution_count": null,
   "id": "10b35fd2",
   "metadata": {
    "execution": {
     "iopub.execute_input": "2025-09-01T05:17:15.843729Z",
     "iopub.status.busy": "2025-09-01T05:17:15.843412Z",
     "iopub.status.idle": "2025-09-01T05:17:15.859209Z",
     "shell.execute_reply": "2025-09-01T05:17:15.858315Z",
     "shell.execute_reply.started": "2025-09-01T05:17:15.843707Z"
    },
    "papermill": {
     "duration": null,
     "end_time": null,
     "exception": null,
     "start_time": null,
     "status": "pending"
    },
    "tags": []
   },
   "outputs": [],
   "source": [
    "#testデータからも消去\n",
    "test_df.drop('PassengerId', axis=1, inplace=True)"
   ]
  },
  {
   "cell_type": "code",
   "execution_count": null,
   "id": "8fcb56d7",
   "metadata": {
    "execution": {
     "iopub.execute_input": "2025-09-01T05:17:15.862123Z",
     "iopub.status.busy": "2025-09-01T05:17:15.861515Z",
     "iopub.status.idle": "2025-09-01T05:17:15.884161Z",
     "shell.execute_reply": "2025-09-01T05:17:15.883098Z",
     "shell.execute_reply.started": "2025-09-01T05:17:15.862097Z"
    },
    "papermill": {
     "duration": null,
     "end_time": null,
     "exception": null,
     "start_time": null,
     "status": "pending"
    },
    "tags": []
   },
   "outputs": [],
   "source": [
    "train_df.head()"
   ]
  },
  {
   "cell_type": "code",
   "execution_count": null,
   "id": "2e399fa2",
   "metadata": {
    "execution": {
     "iopub.execute_input": "2025-09-01T05:17:15.885363Z",
     "iopub.status.busy": "2025-09-01T05:17:15.885132Z",
     "iopub.status.idle": "2025-09-01T05:17:15.921147Z",
     "shell.execute_reply": "2025-09-01T05:17:15.920396Z",
     "shell.execute_reply.started": "2025-09-01T05:17:15.885345Z"
    },
    "papermill": {
     "duration": null,
     "end_time": null,
     "exception": null,
     "start_time": null,
     "status": "pending"
    },
    "tags": []
   },
   "outputs": [],
   "source": [
    "train_df.describe()"
   ]
  },
  {
   "cell_type": "code",
   "execution_count": null,
   "id": "07662d6f",
   "metadata": {
    "execution": {
     "iopub.execute_input": "2025-09-01T05:17:15.922051Z",
     "iopub.status.busy": "2025-09-01T05:17:15.921847Z",
     "iopub.status.idle": "2025-09-01T05:17:15.929229Z",
     "shell.execute_reply": "2025-09-01T05:17:15.928417Z",
     "shell.execute_reply.started": "2025-09-01T05:17:15.922033Z"
    },
    "papermill": {
     "duration": null,
     "end_time": null,
     "exception": null,
     "start_time": null,
     "status": "pending"
    },
    "tags": []
   },
   "outputs": [],
   "source": [
    "train_df.isnull().sum()"
   ]
  },
  {
   "cell_type": "code",
   "execution_count": null,
   "id": "5de0f22a",
   "metadata": {
    "execution": {
     "iopub.execute_input": "2025-09-01T05:17:15.930589Z",
     "iopub.status.busy": "2025-09-01T05:17:15.930089Z",
     "iopub.status.idle": "2025-09-01T05:17:15.947135Z",
     "shell.execute_reply": "2025-09-01T05:17:15.946106Z",
     "shell.execute_reply.started": "2025-09-01T05:17:15.930568Z"
    },
    "papermill": {
     "duration": null,
     "end_time": null,
     "exception": null,
     "start_time": null,
     "status": "pending"
    },
    "tags": []
   },
   "outputs": [],
   "source": [
    "train_df['Embarked'].value_counts()"
   ]
  },
  {
   "cell_type": "code",
   "execution_count": null,
   "id": "095846ac",
   "metadata": {
    "execution": {
     "iopub.execute_input": "2025-09-01T05:17:15.948391Z",
     "iopub.status.busy": "2025-09-01T05:17:15.948052Z",
     "iopub.status.idle": "2025-09-01T05:17:15.966542Z",
     "shell.execute_reply": "2025-09-01T05:17:15.965696Z",
     "shell.execute_reply.started": "2025-09-01T05:17:15.948369Z"
    },
    "papermill": {
     "duration": null,
     "end_time": null,
     "exception": null,
     "start_time": null,
     "status": "pending"
    },
    "tags": []
   },
   "outputs": [],
   "source": [
    "#まず欠損値が２つあるEmbarkedの行を消したい\n",
    "train_df.dropna(subset=['Embarked'], inplace=True)"
   ]
  },
  {
   "cell_type": "code",
   "execution_count": null,
   "id": "28245e33",
   "metadata": {
    "execution": {
     "iopub.execute_input": "2025-09-01T05:17:15.967872Z",
     "iopub.status.busy": "2025-09-01T05:17:15.967595Z",
     "iopub.status.idle": "2025-09-01T05:17:15.990113Z",
     "shell.execute_reply": "2025-09-01T05:17:15.989335Z",
     "shell.execute_reply.started": "2025-09-01T05:17:15.967852Z"
    },
    "papermill": {
     "duration": null,
     "end_time": null,
     "exception": null,
     "start_time": null,
     "status": "pending"
    },
    "tags": []
   },
   "outputs": [],
   "source": [
    "train_df.head()"
   ]
  },
  {
   "cell_type": "code",
   "execution_count": null,
   "id": "84b1e110",
   "metadata": {
    "execution": {
     "iopub.execute_input": "2025-09-01T05:17:15.992960Z",
     "iopub.status.busy": "2025-09-01T05:17:15.992675Z",
     "iopub.status.idle": "2025-09-01T05:17:16.011716Z",
     "shell.execute_reply": "2025-09-01T05:17:16.010829Z",
     "shell.execute_reply.started": "2025-09-01T05:17:15.992939Z"
    },
    "papermill": {
     "duration": null,
     "end_time": null,
     "exception": null,
     "start_time": null,
     "status": "pending"
    },
    "tags": []
   },
   "outputs": [],
   "source": [
    "#年齢と金持ち度は相関がありそうなのでgroupbyメソッドによって欠損値を客室クラスごとの平均値に置き換える\n",
    "train_df['Age'] = train_df.groupby('Pclass')['Age'].transform(lambda x: x.fillna(x.median()))\n"
   ]
  },
  {
   "cell_type": "code",
   "execution_count": null,
   "id": "5c9bc56d",
   "metadata": {
    "execution": {
     "iopub.execute_input": "2025-09-01T05:17:16.012988Z",
     "iopub.status.busy": "2025-09-01T05:17:16.012691Z",
     "iopub.status.idle": "2025-09-01T05:17:16.029858Z",
     "shell.execute_reply": "2025-09-01T05:17:16.029096Z",
     "shell.execute_reply.started": "2025-09-01T05:17:16.012962Z"
    },
    "papermill": {
     "duration": null,
     "end_time": null,
     "exception": null,
     "start_time": null,
     "status": "pending"
    },
    "tags": []
   },
   "outputs": [],
   "source": [
    "train_df.isnull().sum()"
   ]
  },
  {
   "cell_type": "code",
   "execution_count": null,
   "id": "825b8820",
   "metadata": {
    "execution": {
     "iopub.execute_input": "2025-09-01T05:17:16.031152Z",
     "iopub.status.busy": "2025-09-01T05:17:16.030882Z",
     "iopub.status.idle": "2025-09-01T05:17:16.045418Z",
     "shell.execute_reply": "2025-09-01T05:17:16.044507Z",
     "shell.execute_reply.started": "2025-09-01T05:17:16.031123Z"
    },
    "papermill": {
     "duration": null,
     "end_time": null,
     "exception": null,
     "start_time": null,
     "status": "pending"
    },
    "tags": []
   },
   "outputs": [],
   "source": [
    "#SibspとParchと本人の人数を合わせて乗船した家族の人数をFamilySizeとして新しい特徴量を作る\n",
    "train_df['FamilySize'] = train_df['SibSp'] + train_df['Parch'] + 1"
   ]
  },
  {
   "cell_type": "code",
   "execution_count": null,
   "id": "7c835ff3",
   "metadata": {
    "execution": {
     "iopub.execute_input": "2025-09-01T05:17:16.046830Z",
     "iopub.status.busy": "2025-09-01T05:17:16.046501Z",
     "iopub.status.idle": "2025-09-01T05:17:16.074820Z",
     "shell.execute_reply": "2025-09-01T05:17:16.073988Z",
     "shell.execute_reply.started": "2025-09-01T05:17:16.046801Z"
    },
    "papermill": {
     "duration": null,
     "end_time": null,
     "exception": null,
     "start_time": null,
     "status": "pending"
    },
    "tags": []
   },
   "outputs": [],
   "source": [
    "train_df.head(\n",
    ")"
   ]
  },
  {
   "cell_type": "code",
   "execution_count": null,
   "id": "863e24d4",
   "metadata": {
    "execution": {
     "iopub.execute_input": "2025-09-01T05:17:16.075828Z",
     "iopub.status.busy": "2025-09-01T05:17:16.075525Z",
     "iopub.status.idle": "2025-09-01T05:17:16.091218Z",
     "shell.execute_reply": "2025-09-01T05:17:16.090229Z",
     "shell.execute_reply.started": "2025-09-01T05:17:16.075800Z"
    },
    "papermill": {
     "duration": null,
     "end_time": null,
     "exception": null,
     "start_time": null,
     "status": "pending"
    },
    "tags": []
   },
   "outputs": [],
   "source": [
    "# 複数カラムを削除\n",
    "# 不必要になったSibspとParch\n",
    "train_df.drop(['SibSp', 'Parch'], axis=1, inplace=True)\n"
   ]
  },
  {
   "cell_type": "code",
   "execution_count": null,
   "id": "f354dc2e",
   "metadata": {
    "execution": {
     "iopub.execute_input": "2025-09-01T05:17:16.092593Z",
     "iopub.status.busy": "2025-09-01T05:17:16.092200Z",
     "iopub.status.idle": "2025-09-01T05:17:16.115418Z",
     "shell.execute_reply": "2025-09-01T05:17:16.114669Z",
     "shell.execute_reply.started": "2025-09-01T05:17:16.092570Z"
    },
    "papermill": {
     "duration": null,
     "end_time": null,
     "exception": null,
     "start_time": null,
     "status": "pending"
    },
    "tags": []
   },
   "outputs": [],
   "source": [
    "train_df.head()"
   ]
  },
  {
   "cell_type": "code",
   "execution_count": null,
   "id": "38262e89",
   "metadata": {
    "execution": {
     "iopub.execute_input": "2025-09-01T05:17:16.116627Z",
     "iopub.status.busy": "2025-09-01T05:17:16.116372Z",
     "iopub.status.idle": "2025-09-01T05:17:16.133686Z",
     "shell.execute_reply": "2025-09-01T05:17:16.132814Z",
     "shell.execute_reply.started": "2025-09-01T05:17:16.116599Z"
    },
    "papermill": {
     "duration": null,
     "end_time": null,
     "exception": null,
     "start_time": null,
     "status": "pending"
    },
    "tags": []
   },
   "outputs": [],
   "source": [
    "train_df.drop(['Ticket'], axis=1, inplace=True)"
   ]
  },
  {
   "cell_type": "code",
   "execution_count": null,
   "id": "68a89f6c",
   "metadata": {
    "execution": {
     "iopub.execute_input": "2025-09-01T05:17:16.135003Z",
     "iopub.status.busy": "2025-09-01T05:17:16.134687Z",
     "iopub.status.idle": "2025-09-01T05:17:16.156394Z",
     "shell.execute_reply": "2025-09-01T05:17:16.155575Z",
     "shell.execute_reply.started": "2025-09-01T05:17:16.134976Z"
    },
    "papermill": {
     "duration": null,
     "end_time": null,
     "exception": null,
     "start_time": null,
     "status": "pending"
    },
    "tags": []
   },
   "outputs": [],
   "source": [
    "train_df.head()"
   ]
  },
  {
   "cell_type": "code",
   "execution_count": null,
   "id": "635c0186",
   "metadata": {
    "execution": {
     "iopub.execute_input": "2025-09-01T05:17:16.157483Z",
     "iopub.status.busy": "2025-09-01T05:17:16.157263Z",
     "iopub.status.idle": "2025-09-01T05:17:16.178491Z",
     "shell.execute_reply": "2025-09-01T05:17:16.177625Z",
     "shell.execute_reply.started": "2025-09-01T05:17:16.157466Z"
    },
    "papermill": {
     "duration": null,
     "end_time": null,
     "exception": null,
     "start_time": null,
     "status": "pending"
    },
    "tags": []
   },
   "outputs": [],
   "source": [
    "train_df.head()"
   ]
  },
  {
   "cell_type": "code",
   "execution_count": null,
   "id": "57f4f162",
   "metadata": {
    "execution": {
     "iopub.execute_input": "2025-09-01T05:17:16.179727Z",
     "iopub.status.busy": "2025-09-01T05:17:16.179367Z",
     "iopub.status.idle": "2025-09-01T05:17:16.201648Z",
     "shell.execute_reply": "2025-09-01T05:17:16.200826Z",
     "shell.execute_reply.started": "2025-09-01T05:17:16.179705Z"
    },
    "papermill": {
     "duration": null,
     "end_time": null,
     "exception": null,
     "start_time": null,
     "status": "pending"
    },
    "tags": []
   },
   "outputs": [],
   "source": [
    "train_df.head()"
   ]
  },
  {
   "cell_type": "code",
   "execution_count": null,
   "id": "f1e0670f",
   "metadata": {
    "execution": {
     "iopub.execute_input": "2025-09-01T05:17:16.202664Z",
     "iopub.status.busy": "2025-09-01T05:17:16.202433Z",
     "iopub.status.idle": "2025-09-01T05:17:16.221947Z",
     "shell.execute_reply": "2025-09-01T05:17:16.220799Z",
     "shell.execute_reply.started": "2025-09-01T05:17:16.202645Z"
    },
    "papermill": {
     "duration": null,
     "end_time": null,
     "exception": null,
     "start_time": null,
     "status": "pending"
    },
    "tags": []
   },
   "outputs": [],
   "source": [
    "train_df['Title'] = train_df['Name'].str.extract(' ([A-Za-z]+)\\.', expand=True)"
   ]
  },
  {
   "cell_type": "code",
   "execution_count": null,
   "id": "4611500f",
   "metadata": {
    "execution": {
     "iopub.execute_input": "2025-09-01T05:17:16.223143Z",
     "iopub.status.busy": "2025-09-01T05:17:16.222846Z",
     "iopub.status.idle": "2025-09-01T05:17:16.245564Z",
     "shell.execute_reply": "2025-09-01T05:17:16.244770Z",
     "shell.execute_reply.started": "2025-09-01T05:17:16.223122Z"
    },
    "papermill": {
     "duration": null,
     "end_time": null,
     "exception": null,
     "start_time": null,
     "status": "pending"
    },
    "tags": []
   },
   "outputs": [],
   "source": [
    "train_df.head()"
   ]
  },
  {
   "cell_type": "code",
   "execution_count": null,
   "id": "4ae3d739",
   "metadata": {
    "execution": {
     "iopub.execute_input": "2025-09-01T05:17:16.246727Z",
     "iopub.status.busy": "2025-09-01T05:17:16.246481Z",
     "iopub.status.idle": "2025-09-01T05:17:16.259896Z",
     "shell.execute_reply": "2025-09-01T05:17:16.259018Z",
     "shell.execute_reply.started": "2025-09-01T05:17:16.246708Z"
    },
    "papermill": {
     "duration": null,
     "end_time": null,
     "exception": null,
     "start_time": null,
     "status": "pending"
    },
    "tags": []
   },
   "outputs": [],
   "source": [
    "train_df['Title'] = train_df['Name'].str.extract(' ([A-Za-z]+)\\.', expand=False)\n"
   ]
  },
  {
   "cell_type": "code",
   "execution_count": null,
   "id": "4cf74c87",
   "metadata": {
    "execution": {
     "iopub.execute_input": "2025-09-01T05:17:16.260976Z",
     "iopub.status.busy": "2025-09-01T05:17:16.260576Z",
     "iopub.status.idle": "2025-09-01T05:17:16.284598Z",
     "shell.execute_reply": "2025-09-01T05:17:16.283704Z",
     "shell.execute_reply.started": "2025-09-01T05:17:16.260956Z"
    },
    "papermill": {
     "duration": null,
     "end_time": null,
     "exception": null,
     "start_time": null,
     "status": "pending"
    },
    "tags": []
   },
   "outputs": [],
   "source": [
    "train_df.head()"
   ]
  },
  {
   "cell_type": "code",
   "execution_count": null,
   "id": "912ed320",
   "metadata": {
    "execution": {
     "iopub.execute_input": "2025-09-01T05:17:16.286093Z",
     "iopub.status.busy": "2025-09-01T05:17:16.285840Z",
     "iopub.status.idle": "2025-09-01T05:17:16.301825Z",
     "shell.execute_reply": "2025-09-01T05:17:16.301046Z",
     "shell.execute_reply.started": "2025-09-01T05:17:16.286073Z"
    },
    "papermill": {
     "duration": null,
     "end_time": null,
     "exception": null,
     "start_time": null,
     "status": "pending"
    },
    "tags": []
   },
   "outputs": [],
   "source": [
    "train_df['Title'].value_counts()"
   ]
  },
  {
   "cell_type": "code",
   "execution_count": null,
   "id": "171c11f0",
   "metadata": {
    "execution": {
     "iopub.execute_input": "2025-09-01T05:17:16.302756Z",
     "iopub.status.busy": "2025-09-01T05:17:16.302506Z",
     "iopub.status.idle": "2025-09-01T05:17:16.320934Z",
     "shell.execute_reply": "2025-09-01T05:17:16.319979Z",
     "shell.execute_reply.started": "2025-09-01T05:17:16.302718Z"
    },
    "papermill": {
     "duration": null,
     "end_time": null,
     "exception": null,
     "start_time": null,
     "status": "pending"
    },
    "tags": []
   },
   "outputs": [],
   "source": [
    "wealthy_titles = [\"Dr\", \"Rev\", \"Major\", \"Col\", \"Capt\", \"Sir\", \"Lady\", \"Countess\", \"Don\", \"Jonkheer\"]\n",
    "train_df['Title'] = train_df['Title'].replace(wealthy_titles, \"wealthy\")\n"
   ]
  },
  {
   "cell_type": "code",
   "execution_count": null,
   "id": "a48684b2",
   "metadata": {
    "execution": {
     "iopub.execute_input": "2025-09-01T05:17:16.322154Z",
     "iopub.status.busy": "2025-09-01T05:17:16.321858Z",
     "iopub.status.idle": "2025-09-01T05:17:16.339358Z",
     "shell.execute_reply": "2025-09-01T05:17:16.338532Z",
     "shell.execute_reply.started": "2025-09-01T05:17:16.322135Z"
    },
    "papermill": {
     "duration": null,
     "end_time": null,
     "exception": null,
     "start_time": null,
     "status": "pending"
    },
    "tags": []
   },
   "outputs": [],
   "source": [
    "train_df['Title'].value_counts()"
   ]
  },
  {
   "cell_type": "code",
   "execution_count": null,
   "id": "6c322eb2",
   "metadata": {
    "execution": {
     "iopub.execute_input": "2025-09-01T05:17:16.340486Z",
     "iopub.status.busy": "2025-09-01T05:17:16.340267Z",
     "iopub.status.idle": "2025-09-01T05:17:16.356026Z",
     "shell.execute_reply": "2025-09-01T05:17:16.355084Z",
     "shell.execute_reply.started": "2025-09-01T05:17:16.340469Z"
    },
    "papermill": {
     "duration": null,
     "end_time": null,
     "exception": null,
     "start_time": null,
     "status": "pending"
    },
    "tags": []
   },
   "outputs": [],
   "source": [
    "allowed_titles = [\"Mr\", \"Mrs\", \"Miss\", \"Master\", \"wealthy\"]\n",
    "train_df = train_df[train_df['Title'].isin(allowed_titles)]\n"
   ]
  },
  {
   "cell_type": "code",
   "execution_count": null,
   "id": "a12edf84",
   "metadata": {
    "execution": {
     "iopub.execute_input": "2025-09-01T05:17:16.360241Z",
     "iopub.status.busy": "2025-09-01T05:17:16.359945Z",
     "iopub.status.idle": "2025-09-01T05:17:16.376212Z",
     "shell.execute_reply": "2025-09-01T05:17:16.375252Z",
     "shell.execute_reply.started": "2025-09-01T05:17:16.360221Z"
    },
    "papermill": {
     "duration": null,
     "end_time": null,
     "exception": null,
     "start_time": null,
     "status": "pending"
    },
    "tags": []
   },
   "outputs": [],
   "source": [
    "train_df['Title'].value_counts()"
   ]
  },
  {
   "cell_type": "code",
   "execution_count": null,
   "id": "31ab853c",
   "metadata": {
    "execution": {
     "iopub.execute_input": "2025-09-01T05:17:16.377566Z",
     "iopub.status.busy": "2025-09-01T05:17:16.377247Z",
     "iopub.status.idle": "2025-09-01T05:17:16.400229Z",
     "shell.execute_reply": "2025-09-01T05:17:16.399350Z",
     "shell.execute_reply.started": "2025-09-01T05:17:16.377538Z"
    },
    "papermill": {
     "duration": null,
     "end_time": null,
     "exception": null,
     "start_time": null,
     "status": "pending"
    },
    "tags": []
   },
   "outputs": [],
   "source": [
    "train_df.head()"
   ]
  },
  {
   "cell_type": "code",
   "execution_count": null,
   "id": "7fd82c1b",
   "metadata": {
    "execution": {
     "iopub.execute_input": "2025-09-01T05:17:16.401441Z",
     "iopub.status.busy": "2025-09-01T05:17:16.401113Z",
     "iopub.status.idle": "2025-09-01T05:17:16.424669Z",
     "shell.execute_reply": "2025-09-01T05:17:16.423822Z",
     "shell.execute_reply.started": "2025-09-01T05:17:16.401411Z"
    },
    "papermill": {
     "duration": null,
     "end_time": null,
     "exception": null,
     "start_time": null,
     "status": "pending"
    },
    "tags": []
   },
   "outputs": [],
   "source": [
    "train_df.head()"
   ]
  },
  {
   "cell_type": "code",
   "execution_count": null,
   "id": "f1c48b01",
   "metadata": {
    "execution": {
     "iopub.execute_input": "2025-09-01T05:17:16.425907Z",
     "iopub.status.busy": "2025-09-01T05:17:16.425597Z",
     "iopub.status.idle": "2025-09-01T05:17:16.441202Z",
     "shell.execute_reply": "2025-09-01T05:17:16.440416Z",
     "shell.execute_reply.started": "2025-09-01T05:17:16.425876Z"
    },
    "papermill": {
     "duration": null,
     "end_time": null,
     "exception": null,
     "start_time": null,
     "status": "pending"
    },
    "tags": []
   },
   "outputs": [],
   "source": [
    "train_df=train_df.drop(\"Name\",axis=1)"
   ]
  },
  {
   "cell_type": "code",
   "execution_count": null,
   "id": "c2f31120",
   "metadata": {
    "execution": {
     "iopub.execute_input": "2025-09-01T05:17:16.442477Z",
     "iopub.status.busy": "2025-09-01T05:17:16.442196Z",
     "iopub.status.idle": "2025-09-01T05:17:16.465141Z",
     "shell.execute_reply": "2025-09-01T05:17:16.464335Z",
     "shell.execute_reply.started": "2025-09-01T05:17:16.442458Z"
    },
    "papermill": {
     "duration": null,
     "end_time": null,
     "exception": null,
     "start_time": null,
     "status": "pending"
    },
    "tags": []
   },
   "outputs": [],
   "source": [
    "train_df.head()"
   ]
  },
  {
   "cell_type": "code",
   "execution_count": null,
   "id": "912e054a",
   "metadata": {
    "execution": {
     "iopub.execute_input": "2025-09-01T05:17:16.466159Z",
     "iopub.status.busy": "2025-09-01T05:17:16.465917Z",
     "iopub.status.idle": "2025-09-01T05:17:16.481153Z",
     "shell.execute_reply": "2025-09-01T05:17:16.480227Z",
     "shell.execute_reply.started": "2025-09-01T05:17:16.466129Z"
    },
    "papermill": {
     "duration": null,
     "end_time": null,
     "exception": null,
     "start_time": null,
     "status": "pending"
    },
    "tags": []
   },
   "outputs": [],
   "source": [
    "#mapメソッドによりmaleを０に、femaleを１に変換する\n",
    "train_df['Sex'] = train_df['Sex'].map({'male': 0, 'female': 1})\n"
   ]
  },
  {
   "cell_type": "code",
   "execution_count": null,
   "id": "cd471e66",
   "metadata": {
    "execution": {
     "iopub.execute_input": "2025-09-01T05:17:16.482291Z",
     "iopub.status.busy": "2025-09-01T05:17:16.482010Z",
     "iopub.status.idle": "2025-09-01T05:17:16.505683Z",
     "shell.execute_reply": "2025-09-01T05:17:16.504848Z",
     "shell.execute_reply.started": "2025-09-01T05:17:16.482267Z"
    },
    "papermill": {
     "duration": null,
     "end_time": null,
     "exception": null,
     "start_time": null,
     "status": "pending"
    },
    "tags": []
   },
   "outputs": [],
   "source": [
    "train_df.head()"
   ]
  },
  {
   "cell_type": "code",
   "execution_count": null,
   "id": "05be9202",
   "metadata": {
    "execution": {
     "iopub.execute_input": "2025-09-01T05:17:16.506826Z",
     "iopub.status.busy": "2025-09-01T05:17:16.506552Z",
     "iopub.status.idle": "2025-09-01T05:17:16.522527Z",
     "shell.execute_reply": "2025-09-01T05:17:16.521628Z",
     "shell.execute_reply.started": "2025-09-01T05:17:16.506805Z"
    },
    "papermill": {
     "duration": null,
     "end_time": null,
     "exception": null,
     "start_time": null,
     "status": "pending"
    },
    "tags": []
   },
   "outputs": [],
   "source": [
    "train_df = train_df.drop(\"Cabin\", axis=1)\n",
    "test_df = test_df.drop(\"Cabin\", axis=1)\n"
   ]
  },
  {
   "cell_type": "code",
   "execution_count": null,
   "id": "cdd23bb2",
   "metadata": {
    "execution": {
     "iopub.execute_input": "2025-09-01T05:17:16.524273Z",
     "iopub.status.busy": "2025-09-01T05:17:16.523552Z",
     "iopub.status.idle": "2025-09-01T05:17:16.544071Z",
     "shell.execute_reply": "2025-09-01T05:17:16.543343Z",
     "shell.execute_reply.started": "2025-09-01T05:17:16.524244Z"
    },
    "papermill": {
     "duration": null,
     "end_time": null,
     "exception": null,
     "start_time": null,
     "status": "pending"
    },
    "tags": []
   },
   "outputs": [],
   "source": [
    "train_df.head()"
   ]
  },
  {
   "cell_type": "code",
   "execution_count": null,
   "id": "3c458d33",
   "metadata": {
    "execution": {
     "iopub.execute_input": "2025-09-01T05:17:16.545660Z",
     "iopub.status.busy": "2025-09-01T05:17:16.545334Z",
     "iopub.status.idle": "2025-09-01T05:17:16.579488Z",
     "shell.execute_reply": "2025-09-01T05:17:16.578660Z",
     "shell.execute_reply.started": "2025-09-01T05:17:16.545636Z"
    },
    "papermill": {
     "duration": null,
     "end_time": null,
     "exception": null,
     "start_time": null,
     "status": "pending"
    },
    "tags": []
   },
   "outputs": [],
   "source": [
    "train_df[\"Title\"].value_counts()"
   ]
  },
  {
   "cell_type": "code",
   "execution_count": null,
   "id": "7e87654c",
   "metadata": {
    "execution": {
     "iopub.execute_input": "2025-09-01T05:17:16.580617Z",
     "iopub.status.busy": "2025-09-01T05:17:16.580290Z",
     "iopub.status.idle": "2025-09-01T05:17:16.599500Z",
     "shell.execute_reply": "2025-09-01T05:17:16.598628Z",
     "shell.execute_reply.started": "2025-09-01T05:17:16.580592Z"
    },
    "papermill": {
     "duration": null,
     "end_time": null,
     "exception": null,
     "start_time": null,
     "status": "pending"
    },
    "tags": []
   },
   "outputs": [],
   "source": [
    "#one-hot encordingでEmbarkedとTitleをエンコーディングする\n",
    "train_df=pd.get_dummies(train_df[['Embarked', 'Title']], drop_first=True)\n"
   ]
  },
  {
   "cell_type": "code",
   "execution_count": null,
   "id": "2b5599cd",
   "metadata": {
    "execution": {
     "iopub.execute_input": "2025-09-01T05:17:16.600679Z",
     "iopub.status.busy": "2025-09-01T05:17:16.600408Z",
     "iopub.status.idle": "2025-09-01T05:17:16.620207Z",
     "shell.execute_reply": "2025-09-01T05:17:16.619456Z",
     "shell.execute_reply.started": "2025-09-01T05:17:16.600654Z"
    },
    "papermill": {
     "duration": null,
     "end_time": null,
     "exception": null,
     "start_time": null,
     "status": "pending"
    },
    "tags": []
   },
   "outputs": [],
   "source": [
    "train_df.head()"
   ]
  },
  {
   "cell_type": "code",
   "execution_count": null,
   "id": "f9775e8d",
   "metadata": {
    "execution": {
     "iopub.execute_input": "2025-09-01T05:17:16.621522Z",
     "iopub.status.busy": "2025-09-01T05:17:16.621210Z",
     "iopub.status.idle": "2025-09-01T05:17:16.645023Z",
     "shell.execute_reply": "2025-09-01T05:17:16.643816Z",
     "shell.execute_reply.started": "2025-09-01T05:17:16.621490Z"
    },
    "papermill": {
     "duration": null,
     "end_time": null,
     "exception": null,
     "start_time": null,
     "status": "pending"
    },
    "tags": []
   },
   "outputs": [],
   "source": [
    "train_df = pd.get_dummies(train_df, columns=['Embarked', 'Title'], drop_first=True)\n"
   ]
  },
  {
   "cell_type": "raw",
   "id": "eea59157",
   "metadata": {
    "papermill": {
     "duration": null,
     "end_time": null,
     "exception": null,
     "start_time": null,
     "status": "pending"
    },
    "tags": []
   },
   "source": [
    "train_df.head()"
   ]
  },
  {
   "cell_type": "code",
   "execution_count": null,
   "id": "b1f8fce9",
   "metadata": {
    "execution": {
     "iopub.execute_input": "2025-09-01T05:17:51.417880Z",
     "iopub.status.busy": "2025-09-01T05:17:51.417207Z",
     "iopub.status.idle": "2025-09-01T05:17:51.430425Z",
     "shell.execute_reply": "2025-09-01T05:17:51.429650Z",
     "shell.execute_reply.started": "2025-09-01T05:17:51.417850Z"
    },
    "papermill": {
     "duration": null,
     "end_time": null,
     "exception": null,
     "start_time": null,
     "status": "pending"
    },
    "tags": []
   },
   "outputs": [],
   "source": [
    "train_df = pd.read_csv(\"/kaggle/input/titanic/train.csv\")\n",
    "test_df = pd.read_csv(\"/kaggle/input/titanic/test.csv\")\n"
   ]
  },
  {
   "cell_type": "code",
   "execution_count": null,
   "id": "11cd9c48",
   "metadata": {
    "execution": {
     "iopub.execute_input": "2025-09-01T05:17:58.854970Z",
     "iopub.status.busy": "2025-09-01T05:17:58.854641Z",
     "iopub.status.idle": "2025-09-01T05:17:58.867973Z",
     "shell.execute_reply": "2025-09-01T05:17:58.866722Z",
     "shell.execute_reply.started": "2025-09-01T05:17:58.854945Z"
    },
    "papermill": {
     "duration": null,
     "end_time": null,
     "exception": null,
     "start_time": null,
     "status": "pending"
    },
    "tags": []
   },
   "outputs": [],
   "source": [
    "train_df.head()"
   ]
  },
  {
   "cell_type": "code",
   "execution_count": null,
   "id": "f04db0f2",
   "metadata": {
    "execution": {
     "iopub.execute_input": "2025-09-01T05:21:46.291066Z",
     "iopub.status.busy": "2025-09-01T05:21:46.290772Z",
     "iopub.status.idle": "2025-09-01T05:21:46.299081Z",
     "shell.execute_reply": "2025-09-01T05:21:46.298034Z",
     "shell.execute_reply.started": "2025-09-01T05:21:46.291045Z"
    },
    "papermill": {
     "duration": null,
     "end_time": null,
     "exception": null,
     "start_time": null,
     "status": "pending"
    },
    "tags": []
   },
   "outputs": [],
   "source": [
    "train_df.isnull().sum()"
   ]
  },
  {
   "cell_type": "code",
   "execution_count": null,
   "id": "8b23447e",
   "metadata": {
    "execution": {
     "iopub.execute_input": "2025-09-01T05:22:03.206848Z",
     "iopub.status.busy": "2025-09-01T05:22:03.206509Z",
     "iopub.status.idle": "2025-09-01T05:22:03.214152Z",
     "shell.execute_reply": "2025-09-01T05:22:03.213339Z",
     "shell.execute_reply.started": "2025-09-01T05:22:03.206824Z"
    },
    "papermill": {
     "duration": null,
     "end_time": null,
     "exception": null,
     "start_time": null,
     "status": "pending"
    },
    "tags": []
   },
   "outputs": [],
   "source": [
    "test_df.isnull().sum()"
   ]
  },
  {
   "cell_type": "code",
   "execution_count": null,
   "id": "93683c74",
   "metadata": {
    "execution": {
     "iopub.execute_input": "2025-09-01T05:26:44.989723Z",
     "iopub.status.busy": "2025-09-01T05:26:44.989386Z",
     "iopub.status.idle": "2025-09-01T05:26:44.996332Z",
     "shell.execute_reply": "2025-09-01T05:26:44.995162Z",
     "shell.execute_reply.started": "2025-09-01T05:26:44.989697Z"
    },
    "papermill": {
     "duration": null,
     "end_time": null,
     "exception": null,
     "start_time": null,
     "status": "pending"
    },
    "tags": []
   },
   "outputs": [],
   "source": [
    "#trainとtestともにcabinの欠損値が多いのでcabinのカラムごと消す\n",
    "train_df = train_df.drop(columns=[\"Cabin\"])\n",
    "test_df = test_df.drop(columns=[\"Cabin\"])\n"
   ]
  },
  {
   "cell_type": "code",
   "execution_count": null,
   "id": "32fa364c",
   "metadata": {
    "execution": {
     "iopub.execute_input": "2025-09-01T05:31:03.421890Z",
     "iopub.status.busy": "2025-09-01T05:31:03.421518Z",
     "iopub.status.idle": "2025-09-01T05:31:03.426331Z",
     "shell.execute_reply": "2025-09-01T05:31:03.425260Z",
     "shell.execute_reply.started": "2025-09-01T05:31:03.421863Z"
    },
    "papermill": {
     "duration": null,
     "end_time": null,
     "exception": null,
     "start_time": null,
     "status": "pending"
    },
    "tags": []
   },
   "outputs": [],
   "source": [
    "新たに#前処理としてやらないといけないこと\n",
    "\n",
    "#train,testともにageのカラムを中央値で埋める\n",
    "\n",
    "#trainではembarked２行,testではfare１行が欠損してる。testはすべての行に対しての予測が必要となるから\n",
    "#testの１行は中央値かなんかで埋めて、train用は２行を消そうと思う\n",
    "#ただこの時中央値は全体の中央値ではなくてpclassが同じ乗客の中央値をとろうと思う\n",
    "\n",
    "#passengerID,Ticketのカラムも必要なさそうだからtrain,testともにカラムごと消す\n",
    "\n",
    "#年齢と金持ち度は相関がありそうなのでgroupbyメソッドによりAgeの欠損値を客室クラスごとの中央値をとる\n",
    "\n",
    "#SibspとParchと本人の人数を合わせて乗船した家族の人数をfamilySizeとして新しい特徴量を作る\n",
    "#SibspとParchは不必要になったのでカラムを消す\n",
    "\n",
    "#Nameカラムから略称を取り出して新たにtitleカラムを作成する\n",
    "#Dr,Revなど金持ちの略称を取り出してwealthy_titleカラムに入れ、ここに入ってない略称を削除する\n",
    "#Nameカラムを消す\n",
    "\n",
    "#mapメソッドによりmaleを０に、femaleを１にエンコーディングする\n",
    "\n",
    "#title,embarkedカラムをone-hot encordingする"
   ]
  },
  {
   "cell_type": "code",
   "execution_count": null,
   "id": "42c26c40",
   "metadata": {
    "papermill": {
     "duration": null,
     "end_time": null,
     "exception": null,
     "start_time": null,
     "status": "pending"
    },
    "tags": []
   },
   "outputs": [],
   "source": [
    "#関数に含める操作とその順番\n"
   ]
  }
 ],
 "metadata": {
  "kaggle": {
   "accelerator": "none",
   "dataSources": [
    {
     "databundleVersionId": 26502,
     "sourceId": 3136,
     "sourceType": "competition"
    }
   ],
   "dockerImageVersionId": 31089,
   "isGpuEnabled": false,
   "isInternetEnabled": false,
   "language": "python",
   "sourceType": "notebook"
  },
  "kernelspec": {
   "display_name": "Python 3",
   "language": "python",
   "name": "python3"
  },
  "language_info": {
   "codemirror_mode": {
    "name": "ipython",
    "version": 3
   },
   "file_extension": ".py",
   "mimetype": "text/x-python",
   "name": "python",
   "nbconvert_exporter": "python",
   "pygments_lexer": "ipython3",
   "version": "3.11.13"
  },
  "papermill": {
   "default_parameters": {},
   "duration": 8.465868,
   "end_time": "2025-09-01T06:57:14.141372",
   "environment_variables": {},
   "exception": true,
   "input_path": "__notebook__.ipynb",
   "output_path": "__notebook__.ipynb",
   "parameters": {},
   "start_time": "2025-09-01T06:57:05.675504",
   "version": "2.6.0"
  }
 },
 "nbformat": 4,
 "nbformat_minor": 5
}
